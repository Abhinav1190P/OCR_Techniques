{
 "cells": [
  {
   "cell_type": "code",
   "execution_count": 1,
   "id": "759adf00",
   "metadata": {},
   "outputs": [],
   "source": [
    "import cv2\n",
    "import numpy as np"
   ]
  },
  {
   "cell_type": "code",
   "execution_count": 27,
   "id": "fb883743",
   "metadata": {},
   "outputs": [],
   "source": [
    "img = cv2.imread('C:\\\\Users\\\\Dell\\\\Untitled Folder\\\\tr.jpg')"
   ]
  },
  {
   "cell_type": "code",
   "execution_count": 28,
   "id": "05584ec0",
   "metadata": {},
   "outputs": [],
   "source": [
    "model = cv2.dnn.readNet('C:\\\\Users\\\\Dell\\\\Untitled Folder\\\\crnn.onnx')"
   ]
  },
  {
   "cell_type": "code",
   "execution_count": 29,
   "id": "d7bdba30",
   "metadata": {},
   "outputs": [],
   "source": [
    "img_gray= cv2.cvtColor(img,cv2.COLOR_BGR2GRAY)"
   ]
  },
  {
   "cell_type": "code",
   "execution_count": 30,
   "id": "ef210538",
   "metadata": {},
   "outputs": [],
   "source": [
    "blob = cv2.dnn.blobFromImage(img_gray,scalefactor=1/127.5,size=(100,32),mean=127.5)"
   ]
  },
  {
   "cell_type": "code",
   "execution_count": 31,
   "id": "d48db108",
   "metadata": {},
   "outputs": [],
   "source": [
    "model.setInput(blob)"
   ]
  },
  {
   "cell_type": "code",
   "execution_count": 32,
   "id": "ef03da19",
   "metadata": {},
   "outputs": [],
   "source": [
    "scores = model.forward()"
   ]
  },
  {
   "cell_type": "code",
   "execution_count": 33,
   "id": "2dffbb34",
   "metadata": {},
   "outputs": [
    {
     "data": {
      "text/plain": [
       "(26, 1, 37)"
      ]
     },
     "execution_count": 33,
     "metadata": {},
     "output_type": "execute_result"
    }
   ],
   "source": [
    "scores.shape"
   ]
  },
  {
   "cell_type": "code",
   "execution_count": 34,
   "id": "14bc4862",
   "metadata": {},
   "outputs": [],
   "source": [
    "alphabet_set = \"0123456789abcdefghijklmnopqrstuvwxyz\"\n",
    "blank = '-'\n",
    "\n",
    "char_set = blank + alphabet_set"
   ]
  },
  {
   "cell_type": "code",
   "execution_count": 35,
   "id": "0f3612a9",
   "metadata": {},
   "outputs": [],
   "source": [
    "def most_likely(scores, char_set):\n",
    "    text = \"\"\n",
    "    for i in range(scores.shape[0]):\n",
    "        c = np.argmax(scores[i][0])\n",
    "        text += char_set[c]\n",
    "    return text\n"
   ]
  },
  {
   "cell_type": "code",
   "execution_count": 36,
   "id": "c6f859ab",
   "metadata": {},
   "outputs": [],
   "source": [
    "def map_rule(text):\n",
    "    char_list = []\n",
    "    for i in range(len(text)):\n",
    "        if i == 0:\n",
    "            if text[i] != '-':\n",
    "                char_list.append(text[i])\n",
    "        else:\n",
    "            if text[i] != '-' and (not (text[i] == text[i - 1])):\n",
    "                char_list.append(text[i])\n",
    "    return ''.join(char_list)"
   ]
  },
  {
   "cell_type": "code",
   "execution_count": 37,
   "id": "40935dad",
   "metadata": {},
   "outputs": [
    {
     "name": "stdout",
     "output_type": "stream",
     "text": [
      "male\n"
     ]
    }
   ],
   "source": [
    "def best_path(scores, char_set):\n",
    "    text = most_likely(scores, char_set)\n",
    "    final_text = map_rule(text)\n",
    "    return final_text\n",
    "\n",
    "\n",
    "out = best_path(scores, char_set)\n",
    "print(out)"
   ]
  },
  {
   "cell_type": "code",
   "execution_count": null,
   "id": "bd07c4de",
   "metadata": {},
   "outputs": [],
   "source": []
  }
 ],
 "metadata": {
  "kernelspec": {
   "display_name": "Python 3 (ipykernel)",
   "language": "python",
   "name": "python3"
  },
  "language_info": {
   "codemirror_mode": {
    "name": "ipython",
    "version": 3
   },
   "file_extension": ".py",
   "mimetype": "text/x-python",
   "name": "python",
   "nbconvert_exporter": "python",
   "pygments_lexer": "ipython3",
   "version": "3.10.9"
  }
 },
 "nbformat": 4,
 "nbformat_minor": 5
}
