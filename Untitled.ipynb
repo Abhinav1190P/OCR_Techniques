{
 "cells": [
  {
   "cell_type": "code",
   "execution_count": 3,
   "id": "2f5b28d7",
   "metadata": {},
   "outputs": [
    {
     "name": "stdout",
     "output_type": "stream",
     "text": [
      "Collecting opencv-python\n",
      "  Using cached opencv_python-4.7.0.68-cp37-abi3-win_amd64.whl (38.2 MB)\n",
      "Requirement already satisfied: numpy>=1.19.3 in c:\\users\\dell\\appdata\\local\\programs\\python\\python310\\lib\\site-packages (from opencv-python) (1.24.1)\n",
      "Installing collected packages: opencv-python\n",
      "Successfully installed opencv-python-4.7.0.68\n"
     ]
    }
   ],
   "source": [
    "!pip install opencv-python"
   ]
  },
  {
   "cell_type": "code",
   "execution_count": 2,
   "id": "dca8fb93",
   "metadata": {},
   "outputs": [],
   "source": [
    "import cv2\n",
    "import numpy as np"
   ]
  },
  {
   "cell_type": "code",
   "execution_count": 3,
   "id": "da3f9ddf",
   "metadata": {},
   "outputs": [
    {
     "data": {
      "text/plain": [
       "{'divide': 'warn', 'over': 'warn', 'under': 'ignore', 'invalid': 'warn'}"
      ]
     },
     "execution_count": 3,
     "metadata": {},
     "output_type": "execute_result"
    }
   ],
   "source": [
    "np.seterr(divide='ignore', invalid='ignore')"
   ]
  },
  {
   "cell_type": "code",
   "execution_count": 4,
   "id": "557b368a",
   "metadata": {},
   "outputs": [],
   "source": [
    "im = cv2.imread(\"C:\\\\Users\\\\Dell\\\\Untitled Folder\\\\aadhar_demo2.jpg\")"
   ]
  },
  {
   "cell_type": "code",
   "execution_count": 5,
   "id": "1b090f6f",
   "metadata": {},
   "outputs": [],
   "source": [
    "model = cv2.dnn.readNet('C:\\\\Users\\\\Dell\\\\Untitled Folder\\\\frozen_east_text_detection.pb')"
   ]
  },
  {
   "cell_type": "code",
   "execution_count": 6,
   "id": "698857a0",
   "metadata": {},
   "outputs": [
    {
     "name": "stdout",
     "output_type": "stream",
     "text": [
      "384 640\n"
     ]
    }
   ],
   "source": [
    "height, width, _ = im.shape\n",
    "new_height = (height//32)*32\n",
    "new_width = (width//32)*32\n",
    "print(new_height, new_width)"
   ]
  },
  {
   "cell_type": "code",
   "execution_count": 7,
   "id": "fbae553c",
   "metadata": {},
   "outputs": [
    {
     "name": "stdout",
     "output_type": "stream",
     "text": [
      "1.0208333333333333 1.0\n"
     ]
    }
   ],
   "source": [
    "h_ratio = height/new_height\n",
    "w_ratio = width/new_width\n",
    "print(h_ratio, w_ratio)"
   ]
  },
  {
   "cell_type": "code",
   "execution_count": 8,
   "id": "6fbd5037",
   "metadata": {},
   "outputs": [],
   "source": [
    "blob = cv2.dnn.blobFromImage(im,1,(new_width,new_height),(123.68,116.78,103.94), True, False)"
   ]
  },
  {
   "cell_type": "code",
   "execution_count": 9,
   "id": "c0fa1a9e",
   "metadata": {},
   "outputs": [],
   "source": [
    "model.setInput(blob)"
   ]
  },
  {
   "cell_type": "code",
   "execution_count": 10,
   "id": "f1cb4c7d",
   "metadata": {},
   "outputs": [
    {
     "data": {
      "text/plain": [
       "('feature_fusion/concat_3', 'feature_fusion/Conv_7/Sigmoid')"
      ]
     },
     "execution_count": 10,
     "metadata": {},
     "output_type": "execute_result"
    }
   ],
   "source": [
    "model.getUnconnectedOutLayersNames()"
   ]
  },
  {
   "cell_type": "code",
   "execution_count": 11,
   "id": "e395cf86",
   "metadata": {},
   "outputs": [],
   "source": [
    "(geometry, scores) = model.forward(model.getUnconnectedOutLayersNames())"
   ]
  },
  {
   "cell_type": "code",
   "execution_count": 12,
   "id": "d675b903",
   "metadata": {},
   "outputs": [],
   "source": [
    "rectangles = []\n",
    "confidence_score = []\n",
    "\n",
    "for i in range(geometry.shape[2]):\n",
    "    for j in range(0, geometry.shape[3]):\n",
    "        \n",
    "        if scores[0][0][i][j] < 0.1:\n",
    "            continue\n",
    "            \n",
    "        bottom_x = int(j*4 + geometry[0][1][i][j])\n",
    "        bottom_y = int(i*4 + geometry[0][2][i][j])\n",
    "        \n",
    "        \n",
    "        top_x = int(j*4 + geometry[0][3][i][j])\n",
    "        top_y = int(i*4 + geometry[0][0][i][j])\n",
    "        \n",
    "        rectangles.append((top_x, top_y, bottom_x, bottom_y))\n",
    "        confidence_score.append(float(scores[0][0][i][j]))"
   ]
  },
  {
   "cell_type": "code",
   "execution_count": null,
   "id": "38f1872c",
   "metadata": {},
   "outputs": [],
   "source": []
  },
  {
   "cell_type": "code",
   "execution_count": 13,
   "id": "018fb1b1",
   "metadata": {},
   "outputs": [],
   "source": [
    "from imutils.object_detection import non_max_suppression"
   ]
  },
  {
   "cell_type": "code",
   "execution_count": 14,
   "id": "4f862777",
   "metadata": {},
   "outputs": [],
   "source": [
    "fin_boxes = non_max_suppression(np.array(rectangles),probs=confidence_score,overlapThresh=0.1)"
   ]
  },
  {
   "cell_type": "code",
   "execution_count": 15,
   "id": "0e137499",
   "metadata": {},
   "outputs": [],
   "source": [
    "img_copy = im.copy()\n",
    "for (x1,y1,x2,y2) in fin_boxes:\n",
    "    x1 = int(x1*w_ratio)\n",
    "    y1 = int(y1*h_ratio)\n",
    "    x2 = int(x2*w_ratio)\n",
    "    y2 = int(y2*h_ratio)\n",
    "    \n",
    "    cv2.rectangle(img_copy,(x1,y1),(x2,y2),(0,255,0),1)"
   ]
  },
  {
   "cell_type": "code",
   "execution_count": null,
   "id": "2d380d00",
   "metadata": {},
   "outputs": [],
   "source": [
    "cv2.imshow(\"original Image\",im)\n",
    "cv2.imshow(\"Text detection\",img_copy)\n",
    "cv2.waitKey(0)"
   ]
  },
  {
   "cell_type": "code",
   "execution_count": null,
   "id": "8ab7c158",
   "metadata": {},
   "outputs": [],
   "source": []
  }
 ],
 "metadata": {
  "kernelspec": {
   "display_name": "Python 3 (ipykernel)",
   "language": "python",
   "name": "python3"
  },
  "language_info": {
   "codemirror_mode": {
    "name": "ipython",
    "version": 3
   },
   "file_extension": ".py",
   "mimetype": "text/x-python",
   "name": "python",
   "nbconvert_exporter": "python",
   "pygments_lexer": "ipython3",
   "version": "3.10.9"
  }
 },
 "nbformat": 4,
 "nbformat_minor": 5
}
