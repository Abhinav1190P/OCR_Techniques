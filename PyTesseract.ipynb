{
 "cells": [
  {
   "cell_type": "code",
   "execution_count": 1,
   "id": "993bb24a",
   "metadata": {},
   "outputs": [
    {
     "name": "stdout",
     "output_type": "stream",
     "text": [
      "Collecting pytesseract\n",
      "  Downloading pytesseract-0.3.10-py3-none-any.whl (14 kB)\n",
      "Requirement already satisfied: packaging>=21.3 in c:\\users\\dell\\appdata\\local\\programs\\python\\python310\\lib\\site-packages (from pytesseract) (23.0)\n",
      "Collecting Pillow>=8.0.0\n",
      "  Downloading Pillow-9.4.0-cp310-cp310-win_amd64.whl (2.5 MB)\n",
      "     ---------------------------------------- 2.5/2.5 MB 7.5 MB/s eta 0:00:00\n",
      "Installing collected packages: Pillow, pytesseract\n",
      "Successfully installed Pillow-9.4.0 pytesseract-0.3.10\n"
     ]
    }
   ],
   "source": [
    "!pip install pytesseract"
   ]
  },
  {
   "cell_type": "code",
   "execution_count": 2,
   "id": "5d9e4b1c",
   "metadata": {},
   "outputs": [],
   "source": [
    "import cv2\n",
    "import pytesseract"
   ]
  },
  {
   "cell_type": "code",
   "execution_count": 15,
   "id": "4c3a22c2",
   "metadata": {},
   "outputs": [],
   "source": [
    "img = cv2.imread('C:\\\\Users\\\\Dell\\\\Untitled Folder\\\\aadhar_demo2.jpg')"
   ]
  },
  {
   "cell_type": "code",
   "execution_count": 16,
   "id": "1bb59ab1",
   "metadata": {},
   "outputs": [
    {
     "data": {
      "text/plain": [
       "-1"
      ]
     },
     "execution_count": 16,
     "metadata": {},
     "output_type": "execute_result"
    }
   ],
   "source": [
    "cv2.imshow('img',img)\n",
    "cv2.waitKey(0)"
   ]
  },
  {
   "cell_type": "code",
   "execution_count": 17,
   "id": "27492666",
   "metadata": {},
   "outputs": [],
   "source": [
    "pytesseract.pytesseract.tesseract_cmd = r'C:\\Program Files\\Tesseract-OCR\\tesseract.exe'"
   ]
  },
  {
   "cell_type": "code",
   "execution_count": 18,
   "id": "52a2436a",
   "metadata": {},
   "outputs": [],
   "source": [
    "text = pytesseract.image_to_string(img, lang=\"eng+hin\")"
   ]
  },
  {
   "cell_type": "code",
   "execution_count": 19,
   "id": "58c944b7",
   "metadata": {},
   "outputs": [
    {
     "name": "stdout",
     "output_type": "stream",
     "text": [
      "Ee Mahatma Singh\n",
      "DOB: 01/01/1901\n",
      "Gender: MALE\n",
      "\n",
      "0000 1111 2222 ©\n",
      "\n",
      "आधार - आम आदमी का अधिकार\n",
      "\n",
      "\n"
     ]
    }
   ],
   "source": [
    "print(text)"
   ]
  },
  {
   "cell_type": "code",
   "execution_count": 11,
   "id": "e51def36",
   "metadata": {},
   "outputs": [
    {
     "data": {
      "text/plain": [
       "['eng', 'enm', 'hin', 'mar', 'osd']"
      ]
     },
     "execution_count": 11,
     "metadata": {},
     "output_type": "execute_result"
    }
   ],
   "source": [
    "pytesseract.get_languages()"
   ]
  },
  {
   "cell_type": "code",
   "execution_count": null,
   "id": "8d036edf",
   "metadata": {},
   "outputs": [],
   "source": []
  }
 ],
 "metadata": {
  "kernelspec": {
   "display_name": "Python 3 (ipykernel)",
   "language": "python",
   "name": "python3"
  },
  "language_info": {
   "codemirror_mode": {
    "name": "ipython",
    "version": 3
   },
   "file_extension": ".py",
   "mimetype": "text/x-python",
   "name": "python",
   "nbconvert_exporter": "python",
   "pygments_lexer": "ipython3",
   "version": "3.10.9"
  }
 },
 "nbformat": 4,
 "nbformat_minor": 5
}
